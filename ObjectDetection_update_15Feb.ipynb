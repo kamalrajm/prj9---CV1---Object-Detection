{
  "nbformat": 4,
  "nbformat_minor": 0,
  "metadata": {
    "accelerator": "GPU",
    "colab": {
      "name": "ObjectDetection_update 15Feb.ipynb",
      "provenance": [],
      "collapsed_sections": []
    },
    "kernelspec": {
      "display_name": "Python 3",
      "language": "python",
      "name": "python3"
    },
    "language_info": {
      "codemirror_mode": {
        "name": "ipython",
        "version": 3
      },
      "file_extension": ".py",
      "mimetype": "text/x-python",
      "name": "python",
      "nbconvert_exporter": "python",
      "pygments_lexer": "ipython3",
      "version": "3.7.4"
    }
  },
  "cells": [
    {
      "cell_type": "markdown",
      "metadata": {
        "colab_type": "text",
        "id": "VvWl3ebqzCc1"
      },
      "source": [
        "# Instructions\n",
        "- Some parts of the code are already done for you\n",
        "- You need to execute all the cells\n",
        "- You need to add the code where ever you see `\"#### Add your code here ####\"`\n",
        "- Marks are mentioned along with the cells"
      ]
    },
    {
      "cell_type": "markdown",
      "metadata": {
        "colab_type": "text",
        "id": "NgR0j5310qqC"
      },
      "source": [
        "# Face detection\n",
        "Task is to predict the boundaries(mask) around the face in a given image."
      ]
    },
    {
      "cell_type": "markdown",
      "metadata": {
        "colab_type": "text",
        "id": "Aa0jyJzw091I"
      },
      "source": [
        "## Dataset\n",
        "Faces in images marked with bounding boxes. Have around 500 images with around 1100 faces manually tagged via bounding box."
      ]
    },
    {
      "cell_type": "markdown",
      "metadata": {
        "colab_type": "text",
        "id": "CjRTlPkp1LC2"
      },
      "source": [
        "### Mount Google drive if you are using google colab\n",
        "- We recommend using Google Colab as you can face memory issues and longer runtimes while running on local"
      ]
    },
    {
      "cell_type": "code",
      "metadata": {
        "colab_type": "code",
        "id": "sBWMoTJ9cf3Z",
        "outputId": "9bfb45dc-46cd-4696-af7a-3139082b73ea",
        "colab": {
          "base_uri": "https://localhost:8080/",
          "height": 122
        }
      },
      "source": [
        "from google.colab import drive\n",
        "drive.mount('/content/drive')"
      ],
      "execution_count": 0,
      "outputs": [
        {
          "output_type": "stream",
          "text": [
            "Go to this URL in a browser: https://accounts.google.com/o/oauth2/auth?client_id=947318989803-6bn6qk8qdgf4n4g3pfee6491hc0brc4i.apps.googleusercontent.com&redirect_uri=urn%3aietf%3awg%3aoauth%3a2.0%3aoob&response_type=code&scope=email%20https%3a%2f%2fwww.googleapis.com%2fauth%2fdocs.test%20https%3a%2f%2fwww.googleapis.com%2fauth%2fdrive%20https%3a%2f%2fwww.googleapis.com%2fauth%2fdrive.photos.readonly%20https%3a%2f%2fwww.googleapis.com%2fauth%2fpeopleapi.readonly\n",
            "\n",
            "Enter your authorization code:\n",
            "··········\n",
            "Mounted at /content/drive\n"
          ],
          "name": "stdout"
        }
      ]
    },
    {
      "cell_type": "markdown",
      "metadata": {
        "colab_type": "text",
        "id": "sO9mgMmp13sI"
      },
      "source": [
        "### Change current working directory to project folder (1 mark)"
      ]
    },
    {
      "cell_type": "code",
      "metadata": {
        "colab_type": "code",
        "id": "TddMnf4D1-59",
        "outputId": "8f8f770f-c277-4ac1-d00e-ab04fad646f8",
        "colab": {
          "base_uri": "https://localhost:8080/",
          "height": 80
        }
      },
      "source": [
        "import os\n",
        "import matplotlib.pyplot as plt\n",
        "from tensorflow.keras import Model\n",
        "from tensorflow.keras.applications.mobilenet import MobileNet, preprocess_input\n",
        "from tensorflow.keras.callbacks import ModelCheckpoint, EarlyStopping, ReduceLROnPlateau, Callback\n",
        "from tensorflow.keras.layers import Conv2D, Reshape, GlobalAveragePooling2D, Dense\n",
        "from tensorflow.keras.utils import Sequence\n",
        "from tensorflow.keras.backend import epsilon\n",
        "from tensorflow.keras.optimizers import Adam\n",
        "from tensorflow.keras.losses import binary_crossentropy\n",
        "from keras.preprocessing.image import ImageDataGenerator\n",
        "import tensorflow as tf #### Add your code here ####\n",
        "import cv2\n",
        "from tensorflow.keras.applications.mobilenet import preprocess_input"
      ],
      "execution_count": 0,
      "outputs": [
        {
          "output_type": "display_data",
          "data": {
            "text/html": [
              "<p style=\"color: red;\">\n",
              "The default version of TensorFlow in Colab will soon switch to TensorFlow 2.x.<br>\n",
              "We recommend you <a href=\"https://www.tensorflow.org/guide/migrate\" target=\"_blank\">upgrade</a> now \n",
              "or ensure your notebook will continue to use TensorFlow 1.x via the <code>%tensorflow_version 1.x</code> magic:\n",
              "<a href=\"https://colab.research.google.com/notebooks/tensorflow_version.ipynb\" target=\"_blank\">more info</a>.</p>\n"
            ],
            "text/plain": [
              "<IPython.core.display.HTML object>"
            ]
          },
          "metadata": {
            "tags": []
          }
        },
        {
          "output_type": "stream",
          "text": [
            "Using TensorFlow backend.\n"
          ],
          "name": "stderr"
        }
      ]
    },
    {
      "cell_type": "markdown",
      "metadata": {
        "colab_type": "text",
        "id": "3srplE-FEpKa"
      },
      "source": [
        "### Load the \"images.npy\" file (4 marks)\n",
        "- This file contains images with details of bounding boxes"
      ]
    },
    {
      "cell_type": "code",
      "metadata": {
        "colab_type": "code",
        "id": "MqFE_tZDf0sM",
        "colab": {}
      },
      "source": [
        "import numpy as np\n",
        "data = np.load(\"/content/drive/My Drive/Colab Notebooks/GL-AIML-Modules-PythonExcercise/10 Computer Vision/Week 5 - Advanced Computer Vision Project (Object Detection) - Learning Material - Project/images.npy\", allow_pickle= True)"
      ],
      "execution_count": 0,
      "outputs": []
    },
    {
      "cell_type": "markdown",
      "metadata": {
        "colab_type": "text",
        "id": "_SMP8zliFT7R"
      },
      "source": [
        "### Check one sample from the loaded \"images.npy\" file  (4 marks)"
      ]
    },
    {
      "cell_type": "code",
      "metadata": {
        "colab_type": "code",
        "id": "EpEVx4Ieg6pT",
        "outputId": "13342a32-89e3-4383-a8ce-93fb8bf92fe6",
        "colab": {
          "base_uri": "https://localhost:8080/",
          "height": 34
        }
      },
      "source": [
        "data.shape"
      ],
      "execution_count": 0,
      "outputs": [
        {
          "output_type": "execute_result",
          "data": {
            "text/plain": [
              "(409, 2)"
            ]
          },
          "metadata": {
            "tags": []
          },
          "execution_count": 4
        }
      ]
    },
    {
      "cell_type": "code",
      "metadata": {
        "colab_type": "code",
        "id": "vePqVA6ppIS6",
        "outputId": "57aece51-362c-498e-9999-182f36e1ceea",
        "colab": {
          "base_uri": "https://localhost:8080/",
          "height": 34
        }
      },
      "source": [
        "type(data)"
      ],
      "execution_count": 0,
      "outputs": [
        {
          "output_type": "execute_result",
          "data": {
            "text/plain": [
              "numpy.ndarray"
            ]
          },
          "metadata": {
            "tags": []
          },
          "execution_count": 5
        }
      ]
    },
    {
      "cell_type": "code",
      "metadata": {
        "id": "t25dXnbi-uhK",
        "colab_type": "code",
        "outputId": "ac465347-bf99-4340-ff38-3d37d4802b7f",
        "colab": {
          "base_uri": "https://localhost:8080/",
          "height": 34
        }
      },
      "source": [
        "data[100][0][2]"
      ],
      "execution_count": 0,
      "outputs": [
        {
          "output_type": "execute_result",
          "data": {
            "text/plain": [
              "(1280, 3)"
            ]
          },
          "metadata": {
            "tags": []
          },
          "execution_count": 13
        }
      ]
    },
    {
      "cell_type": "code",
      "metadata": {
        "colab_type": "code",
        "id": "NoqNvPK-iXqG",
        "colab": {}
      },
      "source": [
        "#### Add your code here ####\n",
        "from google.colab.patches import cv2_imshow\n",
        "\n",
        "# img = data.load_img\n",
        "# img = tf.keras.preprocessing.image.load_img(data[100][0][2])\n",
        "# cv2_imshow(data[100][0][2])"
      ],
      "execution_count": 0,
      "outputs": []
    },
    {
      "cell_type": "markdown",
      "metadata": {
        "colab_type": "text",
        "id": "m94G4p3CE5Cj"
      },
      "source": [
        "### Set image dimensions   (2 marks)\n",
        "- Initialize image height, image width with value: 224 "
      ]
    },
    {
      "cell_type": "code",
      "metadata": {
        "colab_type": "code",
        "id": "kuZmtOASevDo",
        "colab": {}
      },
      "source": [
        "IMAGE_WIDTH = 224\n",
        "IMAGE_HEIGHT = 224"
      ],
      "execution_count": 0,
      "outputs": []
    },
    {
      "cell_type": "markdown",
      "metadata": {
        "colab_type": "text",
        "id": "wY6FEsCjG47s"
      },
      "source": [
        "### Create features and labels\n",
        "- Here feature is the image\n",
        "- The label is the mask\n",
        "- Images will be stored in \"X_train\" array\n",
        "- Masks will be stored in \"masks\" array"
      ]
    },
    {
      "cell_type": "code",
      "metadata": {
        "colab_type": "code",
        "id": "XjCT9EVTgAvr",
        "colab": {}
      },
      "source": [
        "import cv2\n",
        "from tensorflow.keras.applications.mobilenet import preprocess_input\n",
        "\n",
        "masks = np.zeros((int(data.shape[0]), IMAGE_HEIGHT, IMAGE_WIDTH))\n",
        "X_train = np.zeros((int(data.shape[0]), IMAGE_HEIGHT, IMAGE_WIDTH, 3))\n",
        "for index in range(data.shape[0]):\n",
        "    img = data[index][0]\n",
        "    img = cv2.resize(img, dsize=(IMAGE_HEIGHT, IMAGE_WIDTH), interpolation=cv2.INTER_CUBIC)\n",
        "    try:\n",
        "      img = img[:, :, :3]\n",
        "    except:\n",
        "      continue\n",
        "    X_train[index] = preprocess_input(np.array(img, dtype=np.float32))\n",
        "    for i in data[index][1]:\n",
        "        x1 = int(i[\"points\"][0]['x'] * IMAGE_WIDTH)\n",
        "        x2 = int(i[\"points\"][1]['x'] * IMAGE_WIDTH)\n",
        "        y1 = int(i[\"points\"][0]['y'] * IMAGE_HEIGHT)\n",
        "        y2 = int(i[\"points\"][1]['y'] * IMAGE_HEIGHT)\n",
        "        masks[index][y1:y2, x1:x2] = 1"
      ],
      "execution_count": 0,
      "outputs": []
    },
    {
      "cell_type": "markdown",
      "metadata": {
        "colab_type": "text",
        "id": "N3AYbP79bFtJ"
      },
      "source": [
        "### Print the shape of X_train and mask array  (1 mark)"
      ]
    },
    {
      "cell_type": "code",
      "metadata": {
        "colab_type": "code",
        "id": "3PIRaEdWIjDa",
        "outputId": "4ca8e755-c7ec-4c7e-a0cd-89d09d6b7816",
        "colab": {
          "base_uri": "https://localhost:8080/",
          "height": 34
        }
      },
      "source": [
        "X_train.shape #### Add your code here ####"
      ],
      "execution_count": 0,
      "outputs": [
        {
          "output_type": "execute_result",
          "data": {
            "text/plain": [
              "(409, 224, 224, 3)"
            ]
          },
          "metadata": {
            "tags": []
          },
          "execution_count": 11
        }
      ]
    },
    {
      "cell_type": "code",
      "metadata": {
        "colab_type": "code",
        "id": "Gw6uH5DxgI_r",
        "outputId": "c2ae16b2-fd5c-4df0-acc0-83722f2c90f3",
        "colab": {
          "base_uri": "https://localhost:8080/",
          "height": 34
        }
      },
      "source": [
        "masks.shape #### Add your code here ####"
      ],
      "execution_count": 0,
      "outputs": [
        {
          "output_type": "execute_result",
          "data": {
            "text/plain": [
              "(409, 224, 224)"
            ]
          },
          "metadata": {
            "tags": []
          },
          "execution_count": 12
        }
      ]
    },
    {
      "cell_type": "markdown",
      "metadata": {
        "colab_type": "text",
        "id": "R4wgkWq1bk5F"
      },
      "source": [
        "### Print a sample image and image array"
      ]
    },
    {
      "cell_type": "code",
      "metadata": {
        "colab_type": "code",
        "id": "qfRZjQufj0N9",
        "outputId": "7284c1f6-b976-4679-8280-6f6847fdb09a",
        "colab": {
          "base_uri": "https://localhost:8080/",
          "height": 1000
        }
      },
      "source": [
        "from matplotlib import  pyplot\n",
        "\n",
        "n = 13\n",
        "print(X_train[n])\n",
        "pyplot.imshow(X_train[n])"
      ],
      "execution_count": 0,
      "outputs": [
        {
          "output_type": "stream",
          "text": [
            "Clipping input data to the valid range for imshow with RGB data ([0..1] for floats or [0..255] for integers).\n"
          ],
          "name": "stderr"
        },
        {
          "output_type": "stream",
          "text": [
            "[[[ 0.96862745  1.          0.99215686]\n",
            "  [ 0.96862745  1.          0.99215686]\n",
            "  [ 0.96862745  1.          0.99215686]\n",
            "  ...\n",
            "  [ 0.58431375  0.7019608   0.74117649]\n",
            "  [ 0.34901965  0.4666667   0.50588238]\n",
            "  [ 0.25490201  0.37254906  0.41176474]]\n",
            "\n",
            " [[ 0.96862745  1.          0.99215686]\n",
            "  [ 0.96862745  1.          0.99215686]\n",
            "  [ 0.96862745  1.          0.99215686]\n",
            "  ...\n",
            "  [ 0.58431375  0.7019608   0.74117649]\n",
            "  [ 0.34901965  0.4666667   0.50588238]\n",
            "  [ 0.25490201  0.37254906  0.41176474]]\n",
            "\n",
            " [[ 0.96862745  1.          0.99215686]\n",
            "  [ 0.96862745  1.          0.99215686]\n",
            "  [ 0.96862745  1.          0.99215686]\n",
            "  ...\n",
            "  [ 0.59215689  0.70980394  0.74901962]\n",
            "  [ 0.34901965  0.4666667   0.50588238]\n",
            "  [ 0.25490201  0.37254906  0.41176474]]\n",
            "\n",
            " ...\n",
            "\n",
            " [[ 0.29411769  0.3176471   0.36470592]\n",
            "  [ 0.26274514  0.27843142  0.35686278]\n",
            "  [ 0.53725493  0.56078434  0.65490198]\n",
            "  ...\n",
            "  [-0.43529409 -0.40392154 -0.38039213]\n",
            "  [-0.45098037 -0.41960782 -0.39607841]\n",
            "  [-0.47450978 -0.44313723 -0.41960782]]\n",
            "\n",
            " [[ 0.03529418  0.06666672  0.09019613]\n",
            "  [-0.20784312 -0.19215685 -0.09803921]\n",
            "  [-0.06666666 -0.04313725  0.06666672]\n",
            "  ...\n",
            "  [-0.3098039  -0.27843136 -0.25490195]\n",
            "  [-0.60784316 -0.57647061 -0.5529412 ]\n",
            "  [-0.60000002 -0.56862748 -0.56862748]]\n",
            "\n",
            " [[-0.05098039 -0.05098039  0.00392163]\n",
            "  [-0.50588238 -0.50588238 -0.51372552]\n",
            "  [ 0.20000005  0.27058828  0.39607847]\n",
            "  ...\n",
            "  [-0.36470586 -0.372549   -0.32549018]\n",
            "  [-0.10588235 -0.11372548 -0.06666666]\n",
            "  [-0.6156863  -0.62352943 -0.58431375]]]\n"
          ],
          "name": "stdout"
        },
        {
          "output_type": "execute_result",
          "data": {
            "text/plain": [
              "<matplotlib.image.AxesImage at 0x7f0368569f98>"
            ]
          },
          "metadata": {
            "tags": []
          },
          "execution_count": 13
        },
        {
          "output_type": "display_data",
          "data": {
            "image/png": "[encoded data removed]",
            "text/plain": [
              "<Figure size 432x288 with 1 Axes>"
            ]
          },
          "metadata": {
            "tags": []
          }
        }
      ]
    },
    {
      "cell_type": "code",
      "metadata": {
        "colab_type": "code",
        "id": "983gGKcwlSe8",
        "outputId": "f59ef4f4-edf2-4136-ae13-2440d8144222",
        "colab": {
          "base_uri": "https://localhost:8080/",
          "height": 286
        }
      },
      "source": [
        "pyplot.imshow(masks[n])"
      ],
      "execution_count": 0,
      "outputs": [
        {
          "output_type": "execute_result",
          "data": {
            "text/plain": [
              "<matplotlib.image.AxesImage at 0x7f03684ee668>"
            ]
          },
          "metadata": {
            "tags": []
          },
          "execution_count": 14
        },
        {
          "output_type": "display_data",
          "data": {
            "image/png": "[encoded data removed]",
            "text/plain": [
              "<Figure size 432x288 with 1 Axes>"
            ]
          },
          "metadata": {
            "tags": []
          }
        }
      ]
    },
    {
      "cell_type": "markdown",
      "metadata": {
        "colab_type": "text",
        "id": "Z0Qa1UOue9TE"
      },
      "source": [
        "## Create the model (10 marks)\n",
        "- Add MobileNet as model with below parameter values\n",
        "  - input_shape: IMAGE_HEIGHT, IMAGE_WIDTH, 3\n",
        "  - include_top: False\n",
        "  - alpha: 1.0\n",
        "  - weights: \"imagenet\"\n",
        "- Add UNET architecture layers\n",
        "  - This is the trickiest part of the project, you need to research and implement it correctly"
      ]
    },
    {
      "cell_type": "code",
      "metadata": {
        "colab_type": "code",
        "id": "AgjpWCPBN_5M",
        "colab": {}
      },
      "source": [
        "EPOCHS = 10\n",
        "BATCH_SIZE = 5\n",
        "PATIENCE = 10\n",
        "ALPHA = 1.0\n",
        "\n",
        "HEIGHT_CELLS = 224\n",
        "WIDTH_CELLS = 224\n",
        "\n",
        "CELL_WIDTH = IMAGE_WIDTH / WIDTH_CELLS\n",
        "CELL_HEIGHT = IMAGE_HEIGHT / HEIGHT_CELLS\n",
        "\n",
        "THREADS = 1"
      ],
      "execution_count": 0,
      "outputs": []
    },
    {
      "cell_type": "code",
      "metadata": {
        "colab_type": "code",
        "id": "BTVYOvANrUVx",
        "colab": {}
      },
      "source": [
        "from tensorflow.keras.applications.mobilenet import MobileNet\n",
        "from tensorflow.keras.layers import Concatenate, UpSampling2D, Conv2D, Reshape\n",
        "from tensorflow.keras.models import Model\n",
        "\n",
        "\n",
        "def create_model(trainable=True):\n",
        "    model = MobileNet(input_shape=(IMAGE_HEIGHT, IMAGE_WIDTH, 3), include_top=False, alpha=ALPHA, weights=\"imagenet\")\n",
        "    for layer in model.layers:\n",
        "        layer.trainable = trainable\n",
        "    # model.summary()\n",
        "    block_2 = model.get_layer(\"conv_pw_1_relu\").output\n",
        "    block_1 = model.get_layer(\"conv_pw_1_relu\").output\n",
        "    block0 = model.get_layer(\"conv_pw_3_relu\").output\n",
        "    block1 = model.get_layer(\"conv_pw_5_relu\").output\n",
        "    block2 = model.get_layer(\"conv_pw_11_relu\").output\n",
        "    block3 = model.get_layer(\"conv_pw_13_relu\").output\n",
        "\n",
        "    x = Concatenate()([UpSampling2D()(block3), block2])\n",
        "    print(x.shape)\n",
        "    x = Concatenate()([UpSampling2D()(x), block1])\n",
        "    print(x.shape)\n",
        "    x = Concatenate()([UpSampling2D()(x), block0])\n",
        "    print(x.shape)\n",
        "    x = Concatenate()([UpSampling2D()(x), block_1])\n",
        "    print(x.shape)\n",
        "    x = UpSampling2D()(x)\n",
        "    print(x.shape)\n",
        "    x = Conv2D(1, kernel_size=1, activation=\"sigmoid\")(x)\n",
        "    x = Reshape((IMAGE_HEIGHT, IMAGE_WIDTH))(x)\n",
        "    print(x.shape)\n",
        "    return Model(inputs=model.input, outputs=x)"
      ],
      "execution_count": 0,
      "outputs": []
    },
    {
      "cell_type": "code",
      "metadata": {
        "colab_type": "code",
        "id": "nN86gOrW857z",
        "colab": {}
      },
      "source": [
        "# for layer in model.layers[:20]:\n",
        "#     layer.trainable=False\n",
        "# for layer in model.layers[20:]:\n",
        "#     layer.trainable=True"
      ],
      "execution_count": 0,
      "outputs": []
    },
    {
      "cell_type": "code",
      "metadata": {
        "colab_type": "code",
        "id": "bEsqIFUs8-UN",
        "colab": {}
      },
      "source": [
        "# train_datagen=ImageDataGenerator(preprocessing_function=preprocess_input) #included in our dependencies"
      ],
      "execution_count": 0,
      "outputs": []
    },
    {
      "cell_type": "markdown",
      "metadata": {
        "colab_type": "text",
        "id": "_snZ9o0ZBAiv"
      },
      "source": [
        "### Call the create_model function"
      ]
    },
    {
      "cell_type": "code",
      "metadata": {
        "colab_type": "code",
        "id": "9TfSSP51uPoO",
        "outputId": "11a9c8b7-791d-4f9e-f1c8-22daa8c33f0f",
        "colab": {
          "base_uri": "https://localhost:8080/",
          "height": 1000
        }
      },
      "source": [
        "# Give trainable=False as argument, if you want to freeze lower layers for fast training (but low accuracy)\n",
        "model = create_model()\n",
        "\n",
        "# Print summary\n",
        "model.summary()"
      ],
      "execution_count": 0,
      "outputs": [
        {
          "output_type": "stream",
          "text": [
            "WARNING:tensorflow:From /usr/local/lib/python3.6/dist-packages/tensorflow_core/python/ops/resource_variable_ops.py:1630: calling BaseResourceVariable.__init__ (from tensorflow.python.ops.resource_variable_ops) with constraint is deprecated and will be removed in a future version.\n",
            "Instructions for updating:\n",
            "If using Keras pass *_constraint arguments to layers.\n",
            "Downloading data from https://github.com/fchollet/deep-learning-models/releases/download/v0.6/mobilenet_1_0_224_tf_no_top.h5\n",
            "17227776/17225924 [==============================] - 3s 0us/step\n",
            "(?, 14, 14, 1536)\n",
            "(?, 28, 28, 1792)\n",
            "(?, 56, 56, 1920)\n",
            "(?, 112, 112, 1984)\n",
            "(?, 224, 224, 1984)\n",
            "(?, 224, 224)\n",
            "Model: \"model\"\n",
            "__________________________________________________________________________________________________\n",
            "Layer (type)                    Output Shape         Param #     Connected to                     \n",
            "==================================================================================================\n",
            "input_1 (InputLayer)            [(None, 224, 224, 3) 0                                            \n",
            "__________________________________________________________________________________________________\n",
            "conv1_pad (ZeroPadding2D)       (None, 225, 225, 3)  0           input_1[0][0]                    \n",
            "__________________________________________________________________________________________________\n",
            "conv1 (Conv2D)                  (None, 112, 112, 32) 864         conv1_pad[0][0]                  \n",
            "__________________________________________________________________________________________________\n",
            "conv1_bn (BatchNormalization)   (None, 112, 112, 32) 128         conv1[0][0]                      \n",
            "__________________________________________________________________________________________________\n",
            "conv1_relu (ReLU)               (None, 112, 112, 32) 0           conv1_bn[0][0]                   \n",
            "__________________________________________________________________________________________________\n",
            "conv_dw_1 (DepthwiseConv2D)     (None, 112, 112, 32) 288         conv1_relu[0][0]                 \n",
            "__________________________________________________________________________________________________\n",
            "conv_dw_1_bn (BatchNormalizatio (None, 112, 112, 32) 128         conv_dw_1[0][0]                  \n",
            "__________________________________________________________________________________________________\n",
            "conv_dw_1_relu (ReLU)           (None, 112, 112, 32) 0           conv_dw_1_bn[0][0]               \n",
            "__________________________________________________________________________________________________\n",
            "conv_pw_1 (Conv2D)              (None, 112, 112, 64) 2048        conv_dw_1_relu[0][0]             \n",
            "__________________________________________________________________________________________________\n",
            "conv_pw_1_bn (BatchNormalizatio (None, 112, 112, 64) 256         conv_pw_1[0][0]                  \n",
            "__________________________________________________________________________________________________\n",
            "conv_pw_1_relu (ReLU)           (None, 112, 112, 64) 0           conv_pw_1_bn[0][0]               \n",
            "__________________________________________________________________________________________________\n",
            "conv_pad_2 (ZeroPadding2D)      (None, 113, 113, 64) 0           conv_pw_1_relu[0][0]             \n",
            "__________________________________________________________________________________________________\n",
            "conv_dw_2 (DepthwiseConv2D)     (None, 56, 56, 64)   576         conv_pad_2[0][0]                 \n",
            "__________________________________________________________________________________________________\n",
            "conv_dw_2_bn (BatchNormalizatio (None, 56, 56, 64)   256         conv_dw_2[0][0]                  \n",
            "__________________________________________________________________________________________________\n",
            "conv_dw_2_relu (ReLU)           (None, 56, 56, 64)   0           conv_dw_2_bn[0][0]               \n",
            "__________________________________________________________________________________________________\n",
            "conv_pw_2 (Conv2D)              (None, 56, 56, 128)  8192        conv_dw_2_relu[0][0]             \n",
            "__________________________________________________________________________________________________\n",
            "conv_pw_2_bn (BatchNormalizatio (None, 56, 56, 128)  512         conv_pw_2[0][0]                  \n",
            "__________________________________________________________________________________________________\n",
            "conv_pw_2_relu (ReLU)           (None, 56, 56, 128)  0           conv_pw_2_bn[0][0]               \n",
            "__________________________________________________________________________________________________\n",
            "conv_dw_3 (DepthwiseConv2D)     (None, 56, 56, 128)  1152        conv_pw_2_relu[0][0]             \n",
            "__________________________________________________________________________________________________\n",
            "conv_dw_3_bn (BatchNormalizatio (None, 56, 56, 128)  512         conv_dw_3[0][0]                  \n",
            "__________________________________________________________________________________________________\n",
            "conv_dw_3_relu (ReLU)           (None, 56, 56, 128)  0           conv_dw_3_bn[0][0]               \n",
            "__________________________________________________________________________________________________\n",
            "conv_pw_3 (Conv2D)              (None, 56, 56, 128)  16384       conv_dw_3_relu[0][0]             \n",
            "__________________________________________________________________________________________________\n",
            "conv_pw_3_bn (BatchNormalizatio (None, 56, 56, 128)  512         conv_pw_3[0][0]                  \n",
            "__________________________________________________________________________________________________\n",
            "conv_pw_3_relu (ReLU)           (None, 56, 56, 128)  0           conv_pw_3_bn[0][0]               \n",
            "__________________________________________________________________________________________________\n",
            "conv_pad_4 (ZeroPadding2D)      (None, 57, 57, 128)  0           conv_pw_3_relu[0][0]             \n",
            "__________________________________________________________________________________________________\n",
            "conv_dw_4 (DepthwiseConv2D)     (None, 28, 28, 128)  1152        conv_pad_4[0][0]                 \n",
            "__________________________________________________________________________________________________\n",
            "conv_dw_4_bn (BatchNormalizatio (None, 28, 28, 128)  512         conv_dw_4[0][0]                  \n",
            "__________________________________________________________________________________________________\n",
            "conv_dw_4_relu (ReLU)           (None, 28, 28, 128)  0           conv_dw_4_bn[0][0]               \n",
            "__________________________________________________________________________________________________\n",
            "conv_pw_4 (Conv2D)              (None, 28, 28, 256)  32768       conv_dw_4_relu[0][0]             \n",
            "__________________________________________________________________________________________________\n",
            "conv_pw_4_bn (BatchNormalizatio (None, 28, 28, 256)  1024        conv_pw_4[0][0]                  \n",
            "__________________________________________________________________________________________________\n",
            "conv_pw_4_relu (ReLU)           (None, 28, 28, 256)  0           conv_pw_4_bn[0][0]               \n",
            "__________________________________________________________________________________________________\n",
            "conv_dw_5 (DepthwiseConv2D)     (None, 28, 28, 256)  2304        conv_pw_4_relu[0][0]             \n",
            "__________________________________________________________________________________________________\n",
            "conv_dw_5_bn (BatchNormalizatio (None, 28, 28, 256)  1024        conv_dw_5[0][0]                  \n",
            "__________________________________________________________________________________________________\n",
            "conv_dw_5_relu (ReLU)           (None, 28, 28, 256)  0           conv_dw_5_bn[0][0]               \n",
            "__________________________________________________________________________________________________\n",
            "conv_pw_5 (Conv2D)              (None, 28, 28, 256)  65536       conv_dw_5_relu[0][0]             \n",
            "__________________________________________________________________________________________________\n",
            "conv_pw_5_bn (BatchNormalizatio (None, 28, 28, 256)  1024        conv_pw_5[0][0]                  \n",
            "__________________________________________________________________________________________________\n",
            "conv_pw_5_relu (ReLU)           (None, 28, 28, 256)  0           conv_pw_5_bn[0][0]               \n",
            "__________________________________________________________________________________________________\n",
            "conv_pad_6 (ZeroPadding2D)      (None, 29, 29, 256)  0           conv_pw_5_relu[0][0]             \n",
            "__________________________________________________________________________________________________\n",
            "conv_dw_6 (DepthwiseConv2D)     (None, 14, 14, 256)  2304        conv_pad_6[0][0]                 \n",
            "__________________________________________________________________________________________________\n",
            "conv_dw_6_bn (BatchNormalizatio (None, 14, 14, 256)  1024        conv_dw_6[0][0]                  \n",
            "__________________________________________________________________________________________________\n",
            "conv_dw_6_relu (ReLU)           (None, 14, 14, 256)  0           conv_dw_6_bn[0][0]               \n",
            "__________________________________________________________________________________________________\n",
            "conv_pw_6 (Conv2D)              (None, 14, 14, 512)  131072      conv_dw_6_relu[0][0]             \n",
            "__________________________________________________________________________________________________\n",
            "conv_pw_6_bn (BatchNormalizatio (None, 14, 14, 512)  2048        conv_pw_6[0][0]                  \n",
            "__________________________________________________________________________________________________\n",
            "conv_pw_6_relu (ReLU)           (None, 14, 14, 512)  0           conv_pw_6_bn[0][0]               \n",
            "__________________________________________________________________________________________________\n",
            "conv_dw_7 (DepthwiseConv2D)     (None, 14, 14, 512)  4608        conv_pw_6_relu[0][0]             \n",
            "__________________________________________________________________________________________________\n",
            "conv_dw_7_bn (BatchNormalizatio (None, 14, 14, 512)  2048        conv_dw_7[0][0]                  \n",
            "__________________________________________________________________________________________________\n",
            "conv_dw_7_relu (ReLU)           (None, 14, 14, 512)  0           conv_dw_7_bn[0][0]               \n",
            "__________________________________________________________________________________________________\n",
            "conv_pw_7 (Conv2D)              (None, 14, 14, 512)  262144      conv_dw_7_relu[0][0]             \n",
            "__________________________________________________________________________________________________\n",
            "conv_pw_7_bn (BatchNormalizatio (None, 14, 14, 512)  2048        conv_pw_7[0][0]                  \n",
            "__________________________________________________________________________________________________\n",
            "conv_pw_7_relu (ReLU)           (None, 14, 14, 512)  0           conv_pw_7_bn[0][0]               \n",
            "__________________________________________________________________________________________________\n",
            "conv_dw_8 (DepthwiseConv2D)     (None, 14, 14, 512)  4608        conv_pw_7_relu[0][0]             \n",
            "__________________________________________________________________________________________________\n",
            "conv_dw_8_bn (BatchNormalizatio (None, 14, 14, 512)  2048        conv_dw_8[0][0]                  \n",
            "__________________________________________________________________________________________________\n",
            "conv_dw_8_relu (ReLU)           (None, 14, 14, 512)  0           conv_dw_8_bn[0][0]               \n",
            "__________________________________________________________________________________________________\n",
            "conv_pw_8 (Conv2D)              (None, 14, 14, 512)  262144      conv_dw_8_relu[0][0]             \n",
            "__________________________________________________________________________________________________\n",
            "conv_pw_8_bn (BatchNormalizatio (None, 14, 14, 512)  2048        conv_pw_8[0][0]                  \n",
            "__________________________________________________________________________________________________\n",
            "conv_pw_8_relu (ReLU)           (None, 14, 14, 512)  0           conv_pw_8_bn[0][0]               \n",
            "__________________________________________________________________________________________________\n",
            "conv_dw_9 (DepthwiseConv2D)     (None, 14, 14, 512)  4608        conv_pw_8_relu[0][0]             \n",
            "__________________________________________________________________________________________________\n",
            "conv_dw_9_bn (BatchNormalizatio (None, 14, 14, 512)  2048        conv_dw_9[0][0]                  \n",
            "__________________________________________________________________________________________________\n",
            "conv_dw_9_relu (ReLU)           (None, 14, 14, 512)  0           conv_dw_9_bn[0][0]               \n",
            "__________________________________________________________________________________________________\n",
            "conv_pw_9 (Conv2D)              (None, 14, 14, 512)  262144      conv_dw_9_relu[0][0]             \n",
            "__________________________________________________________________________________________________\n",
            "conv_pw_9_bn (BatchNormalizatio (None, 14, 14, 512)  2048        conv_pw_9[0][0]                  \n",
            "__________________________________________________________________________________________________\n",
            "conv_pw_9_relu (ReLU)           (None, 14, 14, 512)  0           conv_pw_9_bn[0][0]               \n",
            "__________________________________________________________________________________________________\n",
            "conv_dw_10 (DepthwiseConv2D)    (None, 14, 14, 512)  4608        conv_pw_9_relu[0][0]             \n",
            "__________________________________________________________________________________________________\n",
            "conv_dw_10_bn (BatchNormalizati (None, 14, 14, 512)  2048        conv_dw_10[0][0]                 \n",
            "__________________________________________________________________________________________________\n",
            "conv_dw_10_relu (ReLU)          (None, 14, 14, 512)  0           conv_dw_10_bn[0][0]              \n",
            "__________________________________________________________________________________________________\n",
            "conv_pw_10 (Conv2D)             (None, 14, 14, 512)  262144      conv_dw_10_relu[0][0]            \n",
            "__________________________________________________________________________________________________\n",
            "conv_pw_10_bn (BatchNormalizati (None, 14, 14, 512)  2048        conv_pw_10[0][0]                 \n",
            "__________________________________________________________________________________________________\n",
            "conv_pw_10_relu (ReLU)          (None, 14, 14, 512)  0           conv_pw_10_bn[0][0]              \n",
            "__________________________________________________________________________________________________\n",
            "conv_dw_11 (DepthwiseConv2D)    (None, 14, 14, 512)  4608        conv_pw_10_relu[0][0]            \n",
            "__________________________________________________________________________________________________\n",
            "conv_dw_11_bn (BatchNormalizati (None, 14, 14, 512)  2048        conv_dw_11[0][0]                 \n",
            "__________________________________________________________________________________________________\n",
            "conv_dw_11_relu (ReLU)          (None, 14, 14, 512)  0           conv_dw_11_bn[0][0]              \n",
            "__________________________________________________________________________________________________\n",
            "conv_pw_11 (Conv2D)             (None, 14, 14, 512)  262144      conv_dw_11_relu[0][0]            \n",
            "__________________________________________________________________________________________________\n",
            "conv_pw_11_bn (BatchNormalizati (None, 14, 14, 512)  2048        conv_pw_11[0][0]                 \n",
            "__________________________________________________________________________________________________\n",
            "conv_pw_11_relu (ReLU)          (None, 14, 14, 512)  0           conv_pw_11_bn[0][0]              \n",
            "__________________________________________________________________________________________________\n",
            "conv_pad_12 (ZeroPadding2D)     (None, 15, 15, 512)  0           conv_pw_11_relu[0][0]            \n",
            "__________________________________________________________________________________________________\n",
            "conv_dw_12 (DepthwiseConv2D)    (None, 7, 7, 512)    4608        conv_pad_12[0][0]                \n",
            "__________________________________________________________________________________________________\n",
            "conv_dw_12_bn (BatchNormalizati (None, 7, 7, 512)    2048        conv_dw_12[0][0]                 \n",
            "__________________________________________________________________________________________________\n",
            "conv_dw_12_relu (ReLU)          (None, 7, 7, 512)    0           conv_dw_12_bn[0][0]              \n",
            "__________________________________________________________________________________________________\n",
            "conv_pw_12 (Conv2D)             (None, 7, 7, 1024)   524288      conv_dw_12_relu[0][0]            \n",
            "__________________________________________________________________________________________________\n",
            "conv_pw_12_bn (BatchNormalizati (None, 7, 7, 1024)   4096        conv_pw_12[0][0]                 \n",
            "__________________________________________________________________________________________________\n",
            "conv_pw_12_relu (ReLU)          (None, 7, 7, 1024)   0           conv_pw_12_bn[0][0]              \n",
            "__________________________________________________________________________________________________\n",
            "conv_dw_13 (DepthwiseConv2D)    (None, 7, 7, 1024)   9216        conv_pw_12_relu[0][0]            \n",
            "__________________________________________________________________________________________________\n",
            "conv_dw_13_bn (BatchNormalizati (None, 7, 7, 1024)   4096        conv_dw_13[0][0]                 \n",
            "__________________________________________________________________________________________________\n",
            "conv_dw_13_relu (ReLU)          (None, 7, 7, 1024)   0           conv_dw_13_bn[0][0]              \n",
            "__________________________________________________________________________________________________\n",
            "conv_pw_13 (Conv2D)             (None, 7, 7, 1024)   1048576     conv_dw_13_relu[0][0]            \n",
            "__________________________________________________________________________________________________\n",
            "conv_pw_13_bn (BatchNormalizati (None, 7, 7, 1024)   4096        conv_pw_13[0][0]                 \n",
            "__________________________________________________________________________________________________\n",
            "conv_pw_13_relu (ReLU)          (None, 7, 7, 1024)   0           conv_pw_13_bn[0][0]              \n",
            "__________________________________________________________________________________________________\n",
            "up_sampling2d (UpSampling2D)    (None, 14, 14, 1024) 0           conv_pw_13_relu[0][0]            \n",
            "__________________________________________________________________________________________________\n",
            "concatenate (Concatenate)       (None, 14, 14, 1536) 0           up_sampling2d[0][0]              \n",
            "                                                                 conv_pw_11_relu[0][0]            \n",
            "__________________________________________________________________________________________________\n",
            "up_sampling2d_1 (UpSampling2D)  (None, 28, 28, 1536) 0           concatenate[0][0]                \n",
            "__________________________________________________________________________________________________\n",
            "concatenate_1 (Concatenate)     (None, 28, 28, 1792) 0           up_sampling2d_1[0][0]            \n",
            "                                                                 conv_pw_5_relu[0][0]             \n",
            "__________________________________________________________________________________________________\n",
            "up_sampling2d_2 (UpSampling2D)  (None, 56, 56, 1792) 0           concatenate_1[0][0]              \n",
            "__________________________________________________________________________________________________\n",
            "concatenate_2 (Concatenate)     (None, 56, 56, 1920) 0           up_sampling2d_2[0][0]            \n",
            "                                                                 conv_pw_3_relu[0][0]             \n",
            "__________________________________________________________________________________________________\n",
            "up_sampling2d_3 (UpSampling2D)  (None, 112, 112, 192 0           concatenate_2[0][0]              \n",
            "__________________________________________________________________________________________________\n",
            "concatenate_3 (Concatenate)     (None, 112, 112, 198 0           up_sampling2d_3[0][0]            \n",
            "                                                                 conv_pw_1_relu[0][0]             \n",
            "__________________________________________________________________________________________________\n",
            "up_sampling2d_4 (UpSampling2D)  (None, 224, 224, 198 0           concatenate_3[0][0]              \n",
            "__________________________________________________________________________________________________\n",
            "conv2d (Conv2D)                 (None, 224, 224, 1)  1985        up_sampling2d_4[0][0]            \n",
            "__________________________________________________________________________________________________\n",
            "reshape (Reshape)               (None, 224, 224)     0           conv2d[0][0]                     \n",
            "==================================================================================================\n",
            "Total params: 3,230,849\n",
            "Trainable params: 3,208,961\n",
            "Non-trainable params: 21,888\n",
            "__________________________________________________________________________________________________\n"
          ],
          "name": "stdout"
        }
      ]
    },
    {
      "cell_type": "markdown",
      "metadata": {
        "colab_type": "text",
        "id": "2spcE4TvfEZw"
      },
      "source": [
        "### Define dice coefficient function (5 marks)\n",
        "- Create a function to calculate dice coefficient\n"
      ]
    },
    {
      "cell_type": "code",
      "metadata": {
        "colab_type": "code",
        "id": "8H8aViXZuWz1",
        "colab": {}
      },
      "source": [
        "def dice_coefficient(y_true, y_pred):\n",
        "    #### Add your code here ####\n",
        "    numerator = 2 * tf.reduce_sum(y_true * y_pred)\n",
        "    denominator = tf.reduce_sum(y_true + y_pred)\n",
        "    return numerator / (denominator + tf.keras.backend.epsilon()) #### Add your code here ####"
      ],
      "execution_count": 0,
      "outputs": []
    },
    {
      "cell_type": "markdown",
      "metadata": {
        "colab_type": "text",
        "id": "Nkp5SDM1fIu2"
      },
      "source": [
        "### Define loss"
      ]
    },
    {
      "cell_type": "code",
      "metadata": {
        "colab_type": "code",
        "id": "FEOVfs19KVLv",
        "colab": {}
      },
      "source": [
        "from tensorflow.keras.losses import binary_crossentropy\n",
        "from tensorflow.keras.backend import log, epsilon\n",
        "def loss(y_true, y_pred):\n",
        "    return binary_crossentropy(y_true, y_pred) - log(dice_coefficient(y_true, y_pred) + epsilon())"
      ],
      "execution_count": 0,
      "outputs": []
    },
    {
      "cell_type": "markdown",
      "metadata": {
        "colab_type": "text",
        "id": "Thltv_akfOMS"
      },
      "source": [
        "### Compile the model (5 marks)\n",
        "- Complie the model using below parameters\n",
        "  - loss: use the loss function defined above\n",
        "  - optimizers: use Adam optimizer\n",
        "  - metrics: use dice_coefficient function defined above"
      ]
    },
    {
      "cell_type": "code",
      "metadata": {
        "colab_type": "code",
        "id": "atPb8xm2qkK5",
        "colab": {}
      },
      "source": [
        "# train_datagen = X_train  #### Add your code here ####\n",
        "# validation_datagen = masks\n",
        "\n",
        "optimizer = Adam(lr=1e-4, beta_1=0.9, beta_2=0.999, epsilon=None, decay=0.001, amsgrad=False)\n",
        "\n",
        "model.compile(loss=loss, optimizer=optimizer, metrics=[dice_coefficient,'accuracy'])"
      ],
      "execution_count": 0,
      "outputs": []
    },
    {
      "cell_type": "markdown",
      "metadata": {
        "colab_type": "text",
        "id": "VTumZyg0fuVy"
      },
      "source": [
        "### Define checkpoint and earlystopping"
      ]
    },
    {
      "cell_type": "code",
      "metadata": {
        "colab_type": "code",
        "id": "QNlQHt8DMy7h",
        "outputId": "29252e52-d8f3-428a-bb44-2c979000f437",
        "colab": {
          "base_uri": "https://localhost:8080/",
          "height": 34
        }
      },
      "source": [
        "from tensorflow.keras.callbacks import ModelCheckpoint, EarlyStopping, ReduceLROnPlateau\n",
        "checkpoint = ModelCheckpoint(\"model-{loss:.2f}.h5\", monitor=\"loss\", verbose=1, save_best_only=True,\n",
        "                             save_weights_only=True, mode=\"min\", period=1)\n",
        "stop = EarlyStopping(monitor=\"loss\", patience=5, mode=\"min\")\n",
        "reduce_lr = ReduceLROnPlateau(monitor=\"loss\", factor=0.2, patience=5, min_lr=1e-6, verbose=1, mode=\"min\")"
      ],
      "execution_count": 0,
      "outputs": [
        {
          "output_type": "stream",
          "text": [
            "WARNING:tensorflow:`period` argument is deprecated. Please use `save_freq` to specify the frequency in number of samples seen.\n"
          ],
          "name": "stdout"
        }
      ]
    },
    {
      "cell_type": "markdown",
      "metadata": {
        "colab_type": "text",
        "id": "LxxbwvXEf07e"
      },
      "source": [
        "### Fit the model (5 marks)\n",
        "- Fit the model using below parameters\n",
        "  - epochs: you can decide\n",
        "  - batch_size: 1\n",
        "  - callbacks: checkpoint, reduce_lr, stop"
      ]
    },
    {
      "cell_type": "code",
      "metadata": {
        "colab_type": "code",
        "id": "KS-vkGNbYyZ9",
        "outputId": "375a8863-95aa-455a-a0fa-f8d2d2b96cbc",
        "colab": {
          "base_uri": "https://localhost:8080/",
          "height": 1000
        }
      },
      "source": [
        "model.fit(X_train, masks, epochs= 100, batch_size= 2, verbose=True, workers=THREADS,callbacks=[checkpoint, reduce_lr, stop])"
      ],
      "execution_count": 0,
      "outputs": [
        {
          "output_type": "stream",
          "text": [
            "Train on 409 samples\n",
            "Epoch 1/100\n",
            "408/409 [============================>.] - ETA: 0s - loss: 1.2208 - dice_coefficient: 0.4614 - acc: 0.0039\n",
            "Epoch 00001: loss improved from inf to 1.21959, saving model to model-1.22.h5\n",
            "409/409 [==============================] - 35s 85ms/sample - loss: 1.2196 - dice_coefficient: 0.4622 - acc: 0.0039\n",
            "Epoch 2/100\n",
            "408/409 [============================>.] - ETA: 0s - loss: 0.8156 - dice_coefficient: 0.5853 - acc: 0.0019\n",
            "Epoch 00002: loss improved from 1.21959 to 0.81530, saving model to model-0.82.h5\n",
            "409/409 [==============================] - 30s 74ms/sample - loss: 0.8153 - dice_coefficient: 0.5852 - acc: 0.0019\n",
            "Epoch 3/100\n",
            "408/409 [============================>.] - ETA: 0s - loss: 0.7065 - dice_coefficient: 0.6242 - acc: 0.0016\n",
            "Epoch 00003: loss improved from 0.81530 to 0.70708, saving model to model-0.71.h5\n",
            "409/409 [==============================] - 30s 74ms/sample - loss: 0.7071 - dice_coefficient: 0.6233 - acc: 0.0016\n",
            "Epoch 4/100\n",
            "408/409 [============================>.] - ETA: 0s - loss: 0.6538 - dice_coefficient: 0.6486 - acc: 0.0018\n",
            "Epoch 00004: loss improved from 0.70708 to 0.65499, saving model to model-0.65.h5\n",
            "409/409 [==============================] - 30s 74ms/sample - loss: 0.6550 - dice_coefficient: 0.6487 - acc: 0.0018\n",
            "Epoch 5/100\n",
            "408/409 [============================>.] - ETA: 0s - loss: 0.6244 - dice_coefficient: 0.6595 - acc: 0.0016\n",
            "Epoch 00005: loss improved from 0.65499 to 0.62451, saving model to model-0.62.h5\n",
            "409/409 [==============================] - 30s 74ms/sample - loss: 0.6245 - dice_coefficient: 0.6593 - acc: 0.0016\n",
            "Epoch 6/100\n",
            "408/409 [============================>.] - ETA: 0s - loss: 0.5799 - dice_coefficient: 0.6767 - acc: 0.0015\n",
            "Epoch 00006: loss improved from 0.62451 to 0.57949, saving model to model-0.58.h5\n",
            "409/409 [==============================] - 30s 74ms/sample - loss: 0.5795 - dice_coefficient: 0.6772 - acc: 0.0015\n",
            "Epoch 7/100\n",
            "408/409 [============================>.] - ETA: 0s - loss: 0.5475 - dice_coefficient: 0.6915 - acc: 0.0015\n",
            "Epoch 00007: loss improved from 0.57949 to 0.54736, saving model to model-0.55.h5\n",
            "409/409 [==============================] - 30s 74ms/sample - loss: 0.5474 - dice_coefficient: 0.6918 - acc: 0.0015\n",
            "Epoch 8/100\n",
            "408/409 [============================>.] - ETA: 0s - loss: 0.5176 - dice_coefficient: 0.7035 - acc: 0.0015\n",
            "Epoch 00008: loss improved from 0.54736 to 0.51776, saving model to model-0.52.h5\n",
            "409/409 [==============================] - 30s 74ms/sample - loss: 0.5178 - dice_coefficient: 0.7030 - acc: 0.0015\n",
            "Epoch 9/100\n",
            "408/409 [============================>.] - ETA: 0s - loss: 0.5041 - dice_coefficient: 0.7110 - acc: 0.0017\n",
            "Epoch 00009: loss improved from 0.51776 to 0.50354, saving model to model-0.50.h5\n",
            "409/409 [==============================] - 30s 74ms/sample - loss: 0.5035 - dice_coefficient: 0.7114 - acc: 0.0017\n",
            "Epoch 10/100\n",
            "408/409 [============================>.] - ETA: 0s - loss: 0.4883 - dice_coefficient: 0.7184 - acc: 0.0017\n",
            "Epoch 00010: loss improved from 0.50354 to 0.48818, saving model to model-0.49.h5\n",
            "409/409 [==============================] - 30s 74ms/sample - loss: 0.4882 - dice_coefficient: 0.7184 - acc: 0.0017\n",
            "Epoch 11/100\n",
            "408/409 [============================>.] - ETA: 0s - loss: 0.4773 - dice_coefficient: 0.7241 - acc: 0.0017\n",
            "Epoch 00011: loss improved from 0.48818 to 0.47746, saving model to model-0.48.h5\n",
            "409/409 [==============================] - 30s 74ms/sample - loss: 0.4775 - dice_coefficient: 0.7243 - acc: 0.0017\n",
            "Epoch 12/100\n",
            "408/409 [============================>.] - ETA: 0s - loss: 0.4720 - dice_coefficient: 0.7259 - acc: 0.0017\n",
            "Epoch 00012: loss improved from 0.47746 to 0.47195, saving model to model-0.47.h5\n",
            "409/409 [==============================] - 30s 74ms/sample - loss: 0.4719 - dice_coefficient: 0.7261 - acc: 0.0017\n",
            "Epoch 13/100\n",
            "408/409 [============================>.] - ETA: 0s - loss: 0.4466 - dice_coefficient: 0.7383 - acc: 0.0020\n",
            "Epoch 00013: loss improved from 0.47195 to 0.44628, saving model to model-0.45.h5\n",
            "409/409 [==============================] - 30s 74ms/sample - loss: 0.4463 - dice_coefficient: 0.7387 - acc: 0.0020\n",
            "Epoch 14/100\n",
            "408/409 [============================>.] - ETA: 0s - loss: 0.4405 - dice_coefficient: 0.7406 - acc: 0.0016\n",
            "Epoch 00014: loss improved from 0.44628 to 0.44162, saving model to model-0.44.h5\n",
            "409/409 [==============================] - 30s 74ms/sample - loss: 0.4416 - dice_coefficient: 0.7395 - acc: 0.0016\n",
            "Epoch 15/100\n",
            "408/409 [============================>.] - ETA: 0s - loss: 0.4306 - dice_coefficient: 0.7463 - acc: 0.0020\n",
            "Epoch 00015: loss improved from 0.44162 to 0.43160, saving model to model-0.43.h5\n",
            "409/409 [==============================] - 30s 74ms/sample - loss: 0.4316 - dice_coefficient: 0.7463 - acc: 0.0023\n",
            "Epoch 16/100\n",
            "408/409 [============================>.] - ETA: 0s - loss: 0.4310 - dice_coefficient: 0.7458 - acc: 0.0020\n",
            "Epoch 00016: loss improved from 0.43160 to 0.43119, saving model to model-0.43.h5\n",
            "409/409 [==============================] - 30s 74ms/sample - loss: 0.4312 - dice_coefficient: 0.7458 - acc: 0.0020\n",
            "Epoch 17/100\n",
            "408/409 [============================>.] - ETA: 0s - loss: 0.4227 - dice_coefficient: 0.7483 - acc: 0.0019\n",
            "Epoch 00017: loss improved from 0.43119 to 0.42270, saving model to model-0.42.h5\n",
            "409/409 [==============================] - 30s 74ms/sample - loss: 0.4227 - dice_coefficient: 0.7481 - acc: 0.0019\n",
            "Epoch 18/100\n",
            "408/409 [============================>.] - ETA: 0s - loss: 0.4055 - dice_coefficient: 0.7586 - acc: 0.0018\n",
            "Epoch 00018: loss improved from 0.42270 to 0.40586, saving model to model-0.41.h5\n",
            "409/409 [==============================] - 30s 74ms/sample - loss: 0.4059 - dice_coefficient: 0.7580 - acc: 0.0018\n",
            "Epoch 19/100\n",
            "408/409 [============================>.] - ETA: 0s - loss: 0.4103 - dice_coefficient: 0.7559 - acc: 0.0030\n",
            "Epoch 00019: loss did not improve from 0.40586\n",
            "409/409 [==============================] - 30s 73ms/sample - loss: 0.4102 - dice_coefficient: 0.7561 - acc: 0.0030\n",
            "Epoch 20/100\n",
            "408/409 [============================>.] - ETA: 0s - loss: 0.3950 - dice_coefficient: 0.7646 - acc: 0.0022\n",
            "Epoch 00020: loss improved from 0.40586 to 0.39596, saving model to model-0.40.h5\n",
            "409/409 [==============================] - 30s 74ms/sample - loss: 0.3960 - dice_coefficient: 0.7632 - acc: 0.0022\n",
            "Epoch 21/100\n",
            "408/409 [============================>.] - ETA: 0s - loss: 0.3937 - dice_coefficient: 0.7650 - acc: 0.0027\n",
            "Epoch 00021: loss improved from 0.39596 to 0.39340, saving model to model-0.39.h5\n",
            "409/409 [==============================] - 30s 73ms/sample - loss: 0.3934 - dice_coefficient: 0.7654 - acc: 0.0027\n",
            "Epoch 22/100\n",
            "408/409 [============================>.] - ETA: 0s - loss: 0.3856 - dice_coefficient: 0.7683 - acc: 0.0029\n",
            "Epoch 00022: loss improved from 0.39340 to 0.38551, saving model to model-0.39.h5\n",
            "409/409 [==============================] - 30s 74ms/sample - loss: 0.3855 - dice_coefficient: 0.7685 - acc: 0.0029\n",
            "Epoch 23/100\n",
            "408/409 [============================>.] - ETA: 0s - loss: 0.3908 - dice_coefficient: 0.7653 - acc: 0.0033\n",
            "Epoch 00023: loss did not improve from 0.38551\n",
            "409/409 [==============================] - 30s 73ms/sample - loss: 0.3908 - dice_coefficient: 0.7650 - acc: 0.0033\n",
            "Epoch 24/100\n",
            "408/409 [============================>.] - ETA: 0s - loss: 0.3883 - dice_coefficient: 0.7676 - acc: 0.0040\n",
            "Epoch 00024: loss did not improve from 0.38551\n",
            "409/409 [==============================] - 30s 73ms/sample - loss: 0.3882 - dice_coefficient: 0.7681 - acc: 0.0040\n",
            "Epoch 25/100\n",
            "408/409 [============================>.] - ETA: 0s - loss: 0.3799 - dice_coefficient: 0.7729 - acc: 0.0032\n",
            "Epoch 00025: loss improved from 0.38551 to 0.37999, saving model to model-0.38.h5\n",
            "409/409 [==============================] - 30s 74ms/sample - loss: 0.3800 - dice_coefficient: 0.7726 - acc: 0.0032\n",
            "Epoch 26/100\n",
            "408/409 [============================>.] - ETA: 0s - loss: 0.3771 - dice_coefficient: 0.7741 - acc: 0.0049\n",
            "Epoch 00026: loss improved from 0.37999 to 0.37693, saving model to model-0.38.h5\n",
            "409/409 [==============================] - 30s 74ms/sample - loss: 0.3769 - dice_coefficient: 0.7745 - acc: 0.0049\n",
            "Epoch 27/100\n",
            "408/409 [============================>.] - ETA: 0s - loss: 0.3782 - dice_coefficient: 0.7730 - acc: 0.0043\n",
            "Epoch 00027: loss did not improve from 0.37693\n",
            "409/409 [==============================] - 30s 73ms/sample - loss: 0.3784 - dice_coefficient: 0.7724 - acc: 0.0043\n",
            "Epoch 28/100\n",
            "408/409 [============================>.] - ETA: 0s - loss: 0.3709 - dice_coefficient: 0.7767 - acc: 0.0061\n",
            "Epoch 00028: loss improved from 0.37693 to 0.37071, saving model to model-0.37.h5\n",
            "409/409 [==============================] - 30s 74ms/sample - loss: 0.3707 - dice_coefficient: 0.7770 - acc: 0.0061\n",
            "Epoch 29/100\n",
            "408/409 [============================>.] - ETA: 0s - loss: 0.3668 - dice_coefficient: 0.7785 - acc: 0.0064\n",
            "Epoch 00029: loss improved from 0.37071 to 0.36715, saving model to model-0.37.h5\n",
            "409/409 [==============================] - 30s 74ms/sample - loss: 0.3671 - dice_coefficient: 0.7784 - acc: 0.0064\n",
            "Epoch 30/100\n",
            "408/409 [============================>.] - ETA: 0s - loss: 0.3588 - dice_coefficient: 0.7835 - acc: 0.0064\n",
            "Epoch 00030: loss improved from 0.36715 to 0.35898, saving model to model-0.36.h5\n",
            "409/409 [==============================] - 30s 74ms/sample - loss: 0.3590 - dice_coefficient: 0.7838 - acc: 0.0065\n",
            "Epoch 31/100\n",
            "408/409 [============================>.] - ETA: 0s - loss: 0.3581 - dice_coefficient: 0.7830 - acc: 0.0058\n",
            "Epoch 00031: loss improved from 0.35898 to 0.35807, saving model to model-0.36.h5\n",
            "409/409 [==============================] - 30s 74ms/sample - loss: 0.3581 - dice_coefficient: 0.7830 - acc: 0.0057\n",
            "Epoch 32/100\n",
            "408/409 [============================>.] - ETA: 0s - loss: 0.3669 - dice_coefficient: 0.7780 - acc: 0.0081\n",
            "Epoch 00032: loss did not improve from 0.35807\n",
            "409/409 [==============================] - 30s 73ms/sample - loss: 0.3668 - dice_coefficient: 0.7779 - acc: 0.0081\n",
            "Epoch 33/100\n",
            "408/409 [============================>.] - ETA: 0s - loss: 0.3521 - dice_coefficient: 0.7875 - acc: 0.0063\n",
            "Epoch 00033: loss improved from 0.35807 to 0.35195, saving model to model-0.35.h5\n",
            "409/409 [==============================] - 30s 74ms/sample - loss: 0.3519 - dice_coefficient: 0.7878 - acc: 0.0063\n",
            "Epoch 34/100\n",
            "408/409 [============================>.] - ETA: 0s - loss: 0.3510 - dice_coefficient: 0.7887 - acc: 0.0070\n",
            "Epoch 00034: loss improved from 0.35195 to 0.35101, saving model to model-0.35.h5\n",
            "409/409 [==============================] - 30s 74ms/sample - loss: 0.3510 - dice_coefficient: 0.7885 - acc: 0.0070\n",
            "Epoch 35/100\n",
            "408/409 [============================>.] - ETA: 0s - loss: 0.3561 - dice_coefficient: 0.7851 - acc: 0.0074\n",
            "Epoch 00035: loss did not improve from 0.35101\n",
            "409/409 [==============================] - 30s 73ms/sample - loss: 0.3559 - dice_coefficient: 0.7852 - acc: 0.0074\n",
            "Epoch 36/100\n",
            "408/409 [============================>.] - ETA: 0s - loss: 0.3505 - dice_coefficient: 0.7876 - acc: 0.0080\n",
            "Epoch 00036: loss improved from 0.35101 to 0.35046, saving model to model-0.35.h5\n",
            "409/409 [==============================] - 30s 74ms/sample - loss: 0.3505 - dice_coefficient: 0.7875 - acc: 0.0080\n",
            "Epoch 37/100\n",
            "408/409 [============================>.] - ETA: 0s - loss: 0.3450 - dice_coefficient: 0.7919 - acc: 0.0080\n",
            "Epoch 00037: loss improved from 0.35046 to 0.34513, saving model to model-0.35.h5\n",
            "409/409 [==============================] - 30s 74ms/sample - loss: 0.3451 - dice_coefficient: 0.7915 - acc: 0.0080\n",
            "Epoch 38/100\n",
            "408/409 [============================>.] - ETA: 0s - loss: 0.3435 - dice_coefficient: 0.7925 - acc: 0.0090\n",
            "Epoch 00038: loss improved from 0.34513 to 0.34368, saving model to model-0.34.h5\n",
            "409/409 [==============================] - 30s 74ms/sample - loss: 0.3437 - dice_coefficient: 0.7921 - acc: 0.0090\n",
            "Epoch 39/100\n",
            "408/409 [============================>.] - ETA: 0s - loss: 0.3422 - dice_coefficient: 0.7922 - acc: 0.0091\n",
            "Epoch 00039: loss improved from 0.34368 to 0.34230, saving model to model-0.34.h5\n",
            "409/409 [==============================] - 30s 74ms/sample - loss: 0.3423 - dice_coefficient: 0.7920 - acc: 0.0090\n",
            "Epoch 40/100\n",
            "408/409 [============================>.] - ETA: 0s - loss: 0.3391 - dice_coefficient: 0.7951 - acc: 0.0072\n",
            "Epoch 00040: loss improved from 0.34230 to 0.33924, saving model to model-0.34.h5\n",
            "409/409 [==============================] - 30s 74ms/sample - loss: 0.3392 - dice_coefficient: 0.7947 - acc: 0.0071\n",
            "Epoch 41/100\n",
            "408/409 [============================>.] - ETA: 0s - loss: 0.3472 - dice_coefficient: 0.7892 - acc: 0.0095\n",
            "Epoch 00041: loss did not improve from 0.33924\n",
            "409/409 [==============================] - 30s 73ms/sample - loss: 0.3469 - dice_coefficient: 0.7893 - acc: 0.0094\n",
            "Epoch 42/100\n",
            "408/409 [============================>.] - ETA: 0s - loss: 0.3408 - dice_coefficient: 0.7927 - acc: 0.0088\n",
            "Epoch 00042: loss did not improve from 0.33924\n",
            "409/409 [==============================] - 30s 73ms/sample - loss: 0.3408 - dice_coefficient: 0.7928 - acc: 0.0088\n",
            "Epoch 43/100\n",
            "408/409 [============================>.] - ETA: 0s - loss: 0.3350 - dice_coefficient: 0.7967 - acc: 0.0100\n",
            "Epoch 00043: loss improved from 0.33924 to 0.33623, saving model to model-0.34.h5\n",
            "409/409 [==============================] - 30s 74ms/sample - loss: 0.3362 - dice_coefficient: 0.7950 - acc: 0.0100\n",
            "Epoch 44/100\n",
            "408/409 [============================>.] - ETA: 0s - loss: 0.3387 - dice_coefficient: 0.7936 - acc: 0.0114\n",
            "Epoch 00044: loss did not improve from 0.33623\n",
            "409/409 [==============================] - 30s 73ms/sample - loss: 0.3386 - dice_coefficient: 0.7937 - acc: 0.0113\n",
            "Epoch 45/100\n",
            "408/409 [============================>.] - ETA: 0s - loss: 0.3374 - dice_coefficient: 0.7947 - acc: 0.0097\n",
            "Epoch 00045: loss did not improve from 0.33623\n",
            "409/409 [==============================] - 30s 73ms/sample - loss: 0.3382 - dice_coefficient: 0.7933 - acc: 0.0097\n",
            "Epoch 46/100\n",
            "408/409 [============================>.] - ETA: 0s - loss: 0.3321 - dice_coefficient: 0.7971 - acc: 0.0118\n",
            "Epoch 00046: loss improved from 0.33623 to 0.33206, saving model to model-0.33.h5\n",
            "409/409 [==============================] - 30s 74ms/sample - loss: 0.3321 - dice_coefficient: 0.7971 - acc: 0.0117\n",
            "Epoch 47/100\n",
            "408/409 [============================>.] - ETA: 0s - loss: 0.3365 - dice_coefficient: 0.7941 - acc: 0.0091\n",
            "Epoch 00047: loss did not improve from 0.33206\n",
            "409/409 [==============================] - 30s 73ms/sample - loss: 0.3367 - dice_coefficient: 0.7942 - acc: 0.0094\n",
            "Epoch 48/100\n",
            "408/409 [============================>.] - ETA: 0s - loss: 0.3363 - dice_coefficient: 0.7947 - acc: 0.0131\n",
            "Epoch 00048: loss did not improve from 0.33206\n",
            "409/409 [==============================] - 30s 73ms/sample - loss: 0.3362 - dice_coefficient: 0.7948 - acc: 0.0130\n",
            "Epoch 49/100\n",
            "408/409 [============================>.] - ETA: 0s - loss: 0.3253 - dice_coefficient: 0.8015 - acc: 0.0117\n",
            "Epoch 00049: loss improved from 0.33206 to 0.32555, saving model to model-0.33.h5\n",
            "409/409 [==============================] - 30s 74ms/sample - loss: 0.3255 - dice_coefficient: 0.8010 - acc: 0.0117\n",
            "Epoch 50/100\n",
            "408/409 [============================>.] - ETA: 0s - loss: 0.3225 - dice_coefficient: 0.8031 - acc: 0.0117\n",
            "Epoch 00050: loss improved from 0.32555 to 0.32276, saving model to model-0.32.h5\n",
            "409/409 [==============================] - 30s 74ms/sample - loss: 0.3228 - dice_coefficient: 0.8034 - acc: 0.0116\n",
            "Epoch 51/100\n",
            "408/409 [============================>.] - ETA: 0s - loss: 0.3212 - dice_coefficient: 0.8046 - acc: 0.0111\n",
            "Epoch 00051: loss improved from 0.32276 to 0.32151, saving model to model-0.32.h5\n",
            "409/409 [==============================] - 30s 74ms/sample - loss: 0.3215 - dice_coefficient: 0.8040 - acc: 0.0110\n",
            "Epoch 52/100\n",
            "408/409 [============================>.] - ETA: 0s - loss: 0.3263 - dice_coefficient: 0.8007 - acc: 0.0151\n",
            "Epoch 00052: loss did not improve from 0.32151\n",
            "409/409 [==============================] - 30s 73ms/sample - loss: 0.3264 - dice_coefficient: 0.8006 - acc: 0.0150\n",
            "Epoch 53/100\n",
            "408/409 [============================>.] - ETA: 0s - loss: 0.3211 - dice_coefficient: 0.8033 - acc: 0.0128\n",
            "Epoch 00053: loss improved from 0.32151 to 0.32111, saving model to model-0.32.h5\n",
            "409/409 [==============================] - 30s 73ms/sample - loss: 0.3211 - dice_coefficient: 0.8031 - acc: 0.0128\n",
            "Epoch 54/100\n",
            "408/409 [============================>.] - ETA: 0s - loss: 0.3251 - dice_coefficient: 0.8015 - acc: 0.0115\n",
            "Epoch 00054: loss did not improve from 0.32111\n",
            "409/409 [==============================] - 30s 73ms/sample - loss: 0.3250 - dice_coefficient: 0.8017 - acc: 0.0115\n",
            "Epoch 55/100\n",
            "408/409 [============================>.] - ETA: 0s - loss: 0.3168 - dice_coefficient: 0.8059 - acc: 0.0130\n",
            "Epoch 00055: loss improved from 0.32111 to 0.31687, saving model to model-0.32.h5\n",
            "409/409 [==============================] - 30s 74ms/sample - loss: 0.3169 - dice_coefficient: 0.8061 - acc: 0.0129\n",
            "Epoch 56/100\n",
            "408/409 [============================>.] - ETA: 0s - loss: 0.3212 - dice_coefficient: 0.8031 - acc: 0.0142\n",
            "Epoch 00056: loss did not improve from 0.31687\n",
            "409/409 [==============================] - 30s 73ms/sample - loss: 0.3212 - dice_coefficient: 0.8030 - acc: 0.0141\n",
            "Epoch 57/100\n",
            "408/409 [============================>.] - ETA: 0s - loss: 0.3175 - dice_coefficient: 0.8061 - acc: 0.0145\n",
            "Epoch 00057: loss did not improve from 0.31687\n",
            "409/409 [==============================] - 30s 73ms/sample - loss: 0.3176 - dice_coefficient: 0.8058 - acc: 0.0145\n",
            "Epoch 58/100\n",
            "408/409 [============================>.] - ETA: 0s - loss: 0.3228 - dice_coefficient: 0.8016 - acc: 0.0146\n",
            "Epoch 00058: loss did not improve from 0.31687\n",
            "409/409 [==============================] - 30s 73ms/sample - loss: 0.3229 - dice_coefficient: 0.8020 - acc: 0.0146\n",
            "Epoch 59/100\n",
            "408/409 [============================>.] - ETA: 0s - loss: 0.3175 - dice_coefficient: 0.8052 - acc: 0.0164\n",
            "Epoch 00059: loss did not improve from 0.31687\n",
            "409/409 [==============================] - 30s 73ms/sample - loss: 0.3183 - dice_coefficient: 0.8044 - acc: 0.0164\n",
            "Epoch 60/100\n",
            "408/409 [============================>.] - ETA: 0s - loss: 0.3119 - dice_coefficient: 0.8083 - acc: 0.0154\n",
            "Epoch 00060: loss improved from 0.31687 to 0.31213, saving model to model-0.31.h5\n",
            "409/409 [==============================] - 30s 74ms/sample - loss: 0.3121 - dice_coefficient: 0.8082 - acc: 0.0153\n",
            "Epoch 61/100\n",
            "408/409 [============================>.] - ETA: 0s - loss: 0.3172 - dice_coefficient: 0.8061 - acc: 0.0146\n",
            "Epoch 00061: loss did not improve from 0.31213\n",
            "409/409 [==============================] - 30s 73ms/sample - loss: 0.3170 - dice_coefficient: 0.8066 - acc: 0.0146\n",
            "Epoch 62/100\n",
            "408/409 [============================>.] - ETA: 0s - loss: 0.3198 - dice_coefficient: 0.8046 - acc: 0.0162\n",
            "Epoch 00062: loss did not improve from 0.31213\n",
            "409/409 [==============================] - 30s 73ms/sample - loss: 0.3200 - dice_coefficient: 0.8044 - acc: 0.0163\n",
            "Epoch 63/100\n",
            "408/409 [============================>.] - ETA: 0s - loss: 0.3125 - dice_coefficient: 0.8077 - acc: 0.0136\n",
            "Epoch 00063: loss did not improve from 0.31213\n",
            "409/409 [==============================] - 30s 73ms/sample - loss: 0.3129 - dice_coefficient: 0.8072 - acc: 0.0136\n",
            "Epoch 64/100\n",
            "408/409 [============================>.] - ETA: 0s - loss: 0.3124 - dice_coefficient: 0.8083 - acc: 0.0141\n",
            "Epoch 00064: loss did not improve from 0.31213\n",
            "409/409 [==============================] - 30s 73ms/sample - loss: 0.3127 - dice_coefficient: 0.8077 - acc: 0.0141\n",
            "Epoch 65/100\n",
            "408/409 [============================>.] - ETA: 0s - loss: 0.3107 - dice_coefficient: 0.8099 - acc: 0.0149\n",
            "Epoch 00065: loss improved from 0.31213 to 0.31094, saving model to model-0.31.h5\n",
            "409/409 [==============================] - 30s 74ms/sample - loss: 0.3109 - dice_coefficient: 0.8093 - acc: 0.0148\n",
            "Epoch 66/100\n",
            "408/409 [============================>.] - ETA: 0s - loss: 0.3122 - dice_coefficient: 0.8083 - acc: 0.0159\n",
            "Epoch 00066: loss did not improve from 0.31094\n",
            "409/409 [==============================] - 30s 73ms/sample - loss: 0.3123 - dice_coefficient: 0.8085 - acc: 0.0159\n",
            "Epoch 67/100\n",
            "408/409 [============================>.] - ETA: 0s - loss: 0.3152 - dice_coefficient: 0.8064 - acc: 0.0186\n",
            "Epoch 00067: loss did not improve from 0.31094\n",
            "409/409 [==============================] - 30s 73ms/sample - loss: 0.3152 - dice_coefficient: 0.8063 - acc: 0.0186\n",
            "Epoch 68/100\n",
            "408/409 [============================>.] - ETA: 0s - loss: 0.3039 - dice_coefficient: 0.8130 - acc: 0.0159\n",
            "Epoch 00068: loss improved from 0.31094 to 0.30362, saving model to model-0.30.h5\n",
            "409/409 [==============================] - 30s 74ms/sample - loss: 0.3036 - dice_coefficient: 0.8132 - acc: 0.0159\n",
            "Epoch 69/100\n",
            "408/409 [============================>.] - ETA: 0s - loss: 0.3063 - dice_coefficient: 0.8120 - acc: 0.0182\n",
            "Epoch 00069: loss did not improve from 0.30362\n",
            "409/409 [==============================] - 30s 73ms/sample - loss: 0.3065 - dice_coefficient: 0.8121 - acc: 0.0185\n",
            "Epoch 70/100\n",
            "408/409 [============================>.] - ETA: 0s - loss: 0.3066 - dice_coefficient: 0.8112 - acc: 0.0168\n",
            "Epoch 00070: loss did not improve from 0.30362\n",
            "409/409 [==============================] - 30s 73ms/sample - loss: 0.3064 - dice_coefficient: 0.8115 - acc: 0.0167\n",
            "Epoch 71/100\n",
            "408/409 [============================>.] - ETA: 0s - loss: 0.3064 - dice_coefficient: 0.8119 - acc: 0.0176\n",
            "Epoch 00071: loss did not improve from 0.30362\n",
            "409/409 [==============================] - 30s 73ms/sample - loss: 0.3064 - dice_coefficient: 0.8121 - acc: 0.0176\n",
            "Epoch 72/100\n",
            "408/409 [============================>.] - ETA: 0s - loss: 0.3040 - dice_coefficient: 0.8135 - acc: 0.0183\n",
            "Epoch 00072: loss did not improve from 0.30362\n",
            "409/409 [==============================] - 30s 73ms/sample - loss: 0.3042 - dice_coefficient: 0.8136 - acc: 0.0186\n",
            "Epoch 73/100\n",
            "408/409 [============================>.] - ETA: 0s - loss: 0.3042 - dice_coefficient: 0.8137 - acc: 0.0180\n",
            "Epoch 00073: loss did not improve from 0.30362\n",
            "\n",
            "Epoch 00073: ReduceLROnPlateau reducing learning rate to 1.9999999494757503e-05.\n",
            "409/409 [==============================] - 30s 74ms/sample - loss: 0.3046 - dice_coefficient: 0.8132 - acc: 0.0179\n"
          ],
          "name": "stdout"
        },
        {
          "output_type": "execute_result",
          "data": {
            "text/plain": [
              "<tensorflow.python.keras.callbacks.History at 0x7f02be900c18>"
            ]
          },
          "metadata": {
            "tags": []
          },
          "execution_count": 27
        }
      ]
    },
    {
      "cell_type": "markdown",
      "metadata": {
        "colab_type": "text",
        "id": "5VtnuzlOf4uL"
      },
      "source": [
        "### Get the predicted mask for a sample image   (5 marks)"
      ]
    },
    {
      "cell_type": "code",
      "metadata": {
        "id": "QpHGDFMZQmK8",
        "colab_type": "code",
        "outputId": "9bd657a0-aa06-4057-c54e-8cb22ed319dc",
        "colab": {
          "base_uri": "https://localhost:8080/",
          "height": 180
        }
      },
      "source": [
        "X_train[10].shape\n",
        "type(X_train[10])"
      ],
      "execution_count": 0,
      "outputs": [
        {
          "output_type": "error",
          "ename": "NameError",
          "evalue": "ignored",
          "traceback": [
            "\u001b[0;31m---------------------------------------------------------------------------\u001b[0m",
            "\u001b[0;31mNameError\u001b[0m                                 Traceback (most recent call last)",
            "\u001b[0;32m<ipython-input-2-99a22ab4853c>\u001b[0m in \u001b[0;36m<module>\u001b[0;34m()\u001b[0m\n\u001b[0;32m----> 1\u001b[0;31m \u001b[0mX_train\u001b[0m\u001b[0;34m[\u001b[0m\u001b[0;36m10\u001b[0m\u001b[0;34m]\u001b[0m\u001b[0;34m.\u001b[0m\u001b[0mshape\u001b[0m\u001b[0;34m\u001b[0m\u001b[0;34m\u001b[0m\u001b[0m\n\u001b[0m\u001b[1;32m      2\u001b[0m \u001b[0mtype\u001b[0m\u001b[0;34m(\u001b[0m\u001b[0mX_train\u001b[0m\u001b[0;34m[\u001b[0m\u001b[0;36m10\u001b[0m\u001b[0;34m]\u001b[0m\u001b[0;34m)\u001b[0m\u001b[0;34m\u001b[0m\u001b[0;34m\u001b[0m\u001b[0m\n",
            "\u001b[0;31mNameError\u001b[0m: name 'X_train' is not defined"
          ]
        }
      ]
    },
    {
      "cell_type": "code",
      "metadata": {
        "colab_type": "code",
        "id": "o-CBCMysrchu",
        "outputId": "fa2bc5e2-7102-46fd-f59b-3ee446c90e3c",
        "colab": {
          "base_uri": "https://localhost:8080/",
          "height": 231
        }
      },
      "source": [
        "n = 10\n",
        "sample_image = X_train[n]\n",
        "pyplot.imshow(sample_image[n])\n",
        "\n",
        "#### Add your code here ####"
      ],
      "execution_count": 0,
      "outputs": [
        {
          "output_type": "error",
          "ename": "NameError",
          "evalue": "ignored",
          "traceback": [
            "\u001b[0;31m---------------------------------------------------------------------------\u001b[0m",
            "\u001b[0;31mNameError\u001b[0m                                 Traceback (most recent call last)",
            "\u001b[0;32m<ipython-input-1-dcdf93cdfeac>\u001b[0m in \u001b[0;36m<module>\u001b[0;34m()\u001b[0m\n\u001b[1;32m      1\u001b[0m \u001b[0mn\u001b[0m \u001b[0;34m=\u001b[0m \u001b[0;36m10\u001b[0m\u001b[0;34m\u001b[0m\u001b[0;34m\u001b[0m\u001b[0m\n\u001b[0;32m----> 2\u001b[0;31m \u001b[0msample_image\u001b[0m \u001b[0;34m=\u001b[0m \u001b[0mX_train\u001b[0m\u001b[0;34m[\u001b[0m\u001b[0mn\u001b[0m\u001b[0;34m]\u001b[0m\u001b[0;34m\u001b[0m\u001b[0;34m\u001b[0m\u001b[0m\n\u001b[0m\u001b[1;32m      3\u001b[0m \u001b[0mpyplot\u001b[0m\u001b[0;34m.\u001b[0m\u001b[0mimshow\u001b[0m\u001b[0;34m(\u001b[0m\u001b[0msample_image\u001b[0m\u001b[0;34m[\u001b[0m\u001b[0mn\u001b[0m\u001b[0;34m]\u001b[0m\u001b[0;34m)\u001b[0m\u001b[0;34m\u001b[0m\u001b[0;34m\u001b[0m\u001b[0m\n\u001b[1;32m      4\u001b[0m \u001b[0;34m\u001b[0m\u001b[0m\n\u001b[1;32m      5\u001b[0m \u001b[0;31m#### Add your code here ####\u001b[0m\u001b[0;34m\u001b[0m\u001b[0;34m\u001b[0m\u001b[0;34m\u001b[0m\u001b[0m\n",
            "\u001b[0;31mNameError\u001b[0m: name 'X_train' is not defined"
          ]
        }
      ]
    },
    {
      "cell_type": "markdown",
      "metadata": {
        "colab_type": "text",
        "id": "fDIetz0HgA4R"
      },
      "source": [
        "### Impose the mask on the image (5 marks)"
      ]
    },
    {
      "cell_type": "code",
      "metadata": {
        "colab_type": "code",
        "id": "2yqdNghyg6qp",
        "colab": {}
      },
      "source": [
        ""
      ],
      "execution_count": 0,
      "outputs": []
    },
    {
      "cell_type": "code",
      "metadata": {
        "colab_type": "code",
        "id": "MTAHGkb5xdzu",
        "colab": {}
      },
      "source": [
        "#### Add your code here ####"
      ],
      "execution_count": 0,
      "outputs": []
    }
  ]
}